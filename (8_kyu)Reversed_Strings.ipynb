{
  "nbformat": 4,
  "nbformat_minor": 0,
  "metadata": {
    "colab": {
      "name": "(8_kyu)Reversed Strings.ipynb",
      "provenance": [],
      "authorship_tag": "ABX9TyOtaD4lt+CluMvip+lpUZCj",
      "include_colab_link": true
    },
    "kernelspec": {
      "name": "python3",
      "display_name": "Python 3"
    }
  },
  "cells": [
    {
      "cell_type": "markdown",
      "metadata": {
        "id": "view-in-github",
        "colab_type": "text"
      },
      "source": [
        "<a href=\"https://colab.research.google.com/github/CarolinaPaulo/CodeWars/blob/main/(8_kyu)Reversed_Strings.ipynb\" target=\"_parent\"><img src=\"https://colab.research.google.com/assets/colab-badge.svg\" alt=\"Open In Colab\"/></a>"
      ]
    },
    {
      "cell_type": "markdown",
      "metadata": {
        "id": "d2m8haFwbqY6"
      },
      "source": [
        "Complete the solution so that it reverses the string passed into it.\r\n",
        "\r\n",
        "'world'  =>  'dlrow'"
      ]
    },
    {
      "cell_type": "code",
      "metadata": {
        "id": "R8y0xDTUbnsO"
      },
      "source": [
        "def solution(string):\r\n",
        "    \r\n",
        "    newString = string[::-1]\r\n",
        "    \r\n",
        "    return newString"
      ],
      "execution_count": null,
      "outputs": []
    }
  ]
}