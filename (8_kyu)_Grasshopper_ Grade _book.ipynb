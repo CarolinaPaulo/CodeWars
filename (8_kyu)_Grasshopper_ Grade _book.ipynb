{
  "nbformat": 4,
  "nbformat_minor": 0,
  "metadata": {
    "colab": {
      "name": "8 kyu - Grasshopper .ipynb",
      "provenance": [],
      "authorship_tag": "ABX9TyP4aPIbfgCIncUPJufC+TLU"
    },
    "kernelspec": {
      "name": "python3",
      "display_name": "Python 3"
    }
  },
  "cells": [
    {
      "cell_type": "markdown",
      "metadata": {
        "id": "NyMzSTNFaD7k"
      },
      "source": [
        "Grade book\r\n",
        "Complete the function so that it finds the mean of the three scores passed to it and returns the letter value associated with that grade.\r\n",
        "\r\n",
        "Numerical Score\tLetter Grade\r\n",
        "90 <= score <= 100\t'A'\r\n",
        "80 <= score < 90\t'B'\r\n",
        "70 <= score < 80\t'C'\r\n",
        "60 <= score < 70\t'D'\r\n",
        "0 <= score < 60\t'F'\r\n",
        "\r\n",
        "Tested values are all between 0 and 100. Theres is no need to check for negative values or values greater than 100.\r\n",
        "\r\n"
      ]
    },
    {
      "cell_type": "code",
      "metadata": {
        "id": "X-1SeBUCZ6RD"
      },
      "source": [
        "def get_grade(s1, s2, s3):\r\n",
        "    # Code here\r\n",
        "    list = (s1, s2 , s3)\r\n",
        "    \r\n",
        "    soma_das_notas = sum(list)    \r\n",
        "    qtd_de_notas = len(list)\r\n",
        "    media_das_notas = soma_das_notas / qtd_de_notas\r\n",
        "    \r\n",
        "    if media_das_notas > 90:\r\n",
        "        return \"A\"\r\n",
        "    if media_das_notas >= 80 and media_das_notas < 90 :\r\n",
        "        return \"B\"\r\n",
        "    if media_das_notas >= 70 and media_das_notas <80:\r\n",
        "        return \"C\"\r\n",
        "    if media_das_notas >= 60 and media_das_notas < 70:\r\n",
        "        return \"D\"\r\n",
        "        \r\n",
        "    else:\r\n",
        "        return \"F\""
      ],
      "execution_count": null,
      "outputs": []
    }
  ]
}